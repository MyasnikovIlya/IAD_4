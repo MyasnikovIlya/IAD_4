{
 "metadata": {
  "language_info": {
   "codemirror_mode": {
    "name": "ipython",
    "version": 3
   },
   "file_extension": ".py",
   "mimetype": "text/x-python",
   "name": "python",
   "nbconvert_exporter": "python",
   "pygments_lexer": "ipython3",
   "version": "3.8.3-final"
  },
  "orig_nbformat": 2,
  "kernelspec": {
   "name": "python3",
   "display_name": "Python 3",
   "language": "python"
  }
 },
 "nbformat": 4,
 "nbformat_minor": 2,
 "cells": [
  {
   "cell_type": "code",
   "execution_count": 32,
   "metadata": {},
   "outputs": [],
   "source": [
    "import pandas as pd\n",
    "import numpy as np\n",
    "import seaborn as sns\n",
    "import matplotlib.pyplot as plt\n",
    "import sklearn.metrics as metrics\n",
    "from sklearn.metrics import matthews_corrcoef\n",
    "from sklearn.datasets import load_iris\n",
    "from sklearn.model_selection import train_test_split\n",
    "from sklearn.linear_model import LinearRegression, Lasso, Ridge, LogisticRegression\n",
    "from sklearn.preprocessing import StandardScaler, LabelEncoder\n",
    "from sklearn.ensemble import RandomForestRegressor"
   ]
  },
  {
   "cell_type": "code",
   "execution_count": 33,
   "metadata": {},
   "outputs": [],
   "source": [
    "trd = pd.read_csv('train.csv').drop('Index', 1)\n",
    "tsd = pd.read_csv('test.csv').drop('Index', 1)"
   ]
  },
  {
   "cell_type": "code",
   "execution_count": 34,
   "metadata": {},
   "outputs": [
    {
     "output_type": "execute_result",
     "data": {
      "text/plain": [
       "   Gender  Senior Married Dependents  Tenure Phone    MultiplePhones  \\\n",
       "0  Female       0     Yes        Yes      67    No  No phone service   \n",
       "1  Female       0      No         No      34   Yes               Yes   \n",
       "2  Female       1     Yes         No      72   Yes               Yes   \n",
       "3  Female       0     Yes        Yes      63   Yes                No   \n",
       "4    Male       0     Yes        Yes      69   Yes               Yes   \n",
       "\n",
       "      Internet Security Backup Insurance Support   TV Movies  Contract  \\\n",
       "0          DSL      Yes    Yes       Yes     Yes  Yes     No  Two year   \n",
       "1          DSL      Yes    Yes        No     Yes   No     No  One year   \n",
       "2  Fiber optic      Yes    Yes       Yes     Yes   No     No  Two year   \n",
       "3          DSL      Yes    Yes       Yes     Yes   No     No  Two year   \n",
       "4  Fiber optic       No    Yes       Yes      No  Yes     No  One year   \n",
       "\n",
       "  EBilling              PaymentMethod  MonthlyCharges TotalCharges  Churn  \n",
       "0       No    Credit card (automatic)           54.20      3623.95  False  \n",
       "1      Yes               Mailed check           64.40      2088.75   True  \n",
       "2      Yes  Bank transfer (automatic)           96.60       6827.5  False  \n",
       "3       No               Mailed check           63.55       4014.2  False  \n",
       "4       No    Credit card (automatic)           95.75      6511.25  False  "
      ],
      "text/html": "<div>\n<style scoped>\n    .dataframe tbody tr th:only-of-type {\n        vertical-align: middle;\n    }\n\n    .dataframe tbody tr th {\n        vertical-align: top;\n    }\n\n    .dataframe thead th {\n        text-align: right;\n    }\n</style>\n<table border=\"1\" class=\"dataframe\">\n  <thead>\n    <tr style=\"text-align: right;\">\n      <th></th>\n      <th>Gender</th>\n      <th>Senior</th>\n      <th>Married</th>\n      <th>Dependents</th>\n      <th>Tenure</th>\n      <th>Phone</th>\n      <th>MultiplePhones</th>\n      <th>Internet</th>\n      <th>Security</th>\n      <th>Backup</th>\n      <th>Insurance</th>\n      <th>Support</th>\n      <th>TV</th>\n      <th>Movies</th>\n      <th>Contract</th>\n      <th>EBilling</th>\n      <th>PaymentMethod</th>\n      <th>MonthlyCharges</th>\n      <th>TotalCharges</th>\n      <th>Churn</th>\n    </tr>\n  </thead>\n  <tbody>\n    <tr>\n      <th>0</th>\n      <td>Female</td>\n      <td>0</td>\n      <td>Yes</td>\n      <td>Yes</td>\n      <td>67</td>\n      <td>No</td>\n      <td>No phone service</td>\n      <td>DSL</td>\n      <td>Yes</td>\n      <td>Yes</td>\n      <td>Yes</td>\n      <td>Yes</td>\n      <td>Yes</td>\n      <td>No</td>\n      <td>Two year</td>\n      <td>No</td>\n      <td>Credit card (automatic)</td>\n      <td>54.20</td>\n      <td>3623.95</td>\n      <td>False</td>\n    </tr>\n    <tr>\n      <th>1</th>\n      <td>Female</td>\n      <td>0</td>\n      <td>No</td>\n      <td>No</td>\n      <td>34</td>\n      <td>Yes</td>\n      <td>Yes</td>\n      <td>DSL</td>\n      <td>Yes</td>\n      <td>Yes</td>\n      <td>No</td>\n      <td>Yes</td>\n      <td>No</td>\n      <td>No</td>\n      <td>One year</td>\n      <td>Yes</td>\n      <td>Mailed check</td>\n      <td>64.40</td>\n      <td>2088.75</td>\n      <td>True</td>\n    </tr>\n    <tr>\n      <th>2</th>\n      <td>Female</td>\n      <td>1</td>\n      <td>Yes</td>\n      <td>No</td>\n      <td>72</td>\n      <td>Yes</td>\n      <td>Yes</td>\n      <td>Fiber optic</td>\n      <td>Yes</td>\n      <td>Yes</td>\n      <td>Yes</td>\n      <td>Yes</td>\n      <td>No</td>\n      <td>No</td>\n      <td>Two year</td>\n      <td>Yes</td>\n      <td>Bank transfer (automatic)</td>\n      <td>96.60</td>\n      <td>6827.5</td>\n      <td>False</td>\n    </tr>\n    <tr>\n      <th>3</th>\n      <td>Female</td>\n      <td>0</td>\n      <td>Yes</td>\n      <td>Yes</td>\n      <td>63</td>\n      <td>Yes</td>\n      <td>No</td>\n      <td>DSL</td>\n      <td>Yes</td>\n      <td>Yes</td>\n      <td>Yes</td>\n      <td>Yes</td>\n      <td>No</td>\n      <td>No</td>\n      <td>Two year</td>\n      <td>No</td>\n      <td>Mailed check</td>\n      <td>63.55</td>\n      <td>4014.2</td>\n      <td>False</td>\n    </tr>\n    <tr>\n      <th>4</th>\n      <td>Male</td>\n      <td>0</td>\n      <td>Yes</td>\n      <td>Yes</td>\n      <td>69</td>\n      <td>Yes</td>\n      <td>Yes</td>\n      <td>Fiber optic</td>\n      <td>No</td>\n      <td>Yes</td>\n      <td>Yes</td>\n      <td>No</td>\n      <td>Yes</td>\n      <td>No</td>\n      <td>One year</td>\n      <td>No</td>\n      <td>Credit card (automatic)</td>\n      <td>95.75</td>\n      <td>6511.25</td>\n      <td>False</td>\n    </tr>\n  </tbody>\n</table>\n</div>"
     },
     "metadata": {},
     "execution_count": 34
    }
   ],
   "source": [
    "trd.head()"
   ]
  },
  {
   "cell_type": "code",
   "execution_count": 35,
   "metadata": {},
   "outputs": [],
   "source": [
    "\n",
    "def format_df(trd):\n",
    "    trd= trd.replace(['', ' '], 0)\n",
    "    trdwd = pd.concat([\n",
    "        trd.drop(['Gender', 'Internet', 'Contract'], axis=1),\n",
    "        pd.get_dummies(trd['Internet'], prefix='Internet'),    \n",
    "        pd.get_dummies(trd['Contract'], prefix='Contract')\n",
    "    ], axis = 1)\n",
    "\n",
    "    trdwd = trdwd.replace(['Electronic check', 'Mailed check'], 0)\n",
    "    trdwd = trdwd.replace(['Bank transfer (automatic)', 'Credit card (automatic)'], 1)\n",
    "\n",
    "    trdwd = trdwd.replace(['No phone service', 'No internet service'], 0)\n",
    "\n",
    "    trdwd = trdwd.replace(['Yes', True, 'True'], 1)\n",
    "    trdwd = trdwd.replace(['No', False, 'False'], 0)\n",
    "    return trdwd\n",
    "trdwd = format_df(trd)"
   ]
  },
  {
   "cell_type": "code",
   "execution_count": 36,
   "metadata": {},
   "outputs": [
    {
     "output_type": "execute_result",
     "data": {
      "text/plain": [
       "array([False, False, False, ..., False, False, False])"
      ]
     },
     "metadata": {},
     "execution_count": 36
    }
   ],
   "source": [
    "X, Y = trdwd.drop(['Churn'], axis=1), trdwd['Churn']\n",
    "X_train, X_test, Y_train, Y_test = train_test_split(X, Y, test_size=0.3, random_state=10)\n",
    "\n",
    "lr = LogisticRegression(random_state=1, solver='liblinear')\n",
    "lr.fit(X_train, Y_train)\n",
    "predictions = lr.predict(X_test)\n",
    "predictions"
   ]
  },
  {
   "cell_type": "code",
   "execution_count": 37,
   "metadata": {},
   "outputs": [
    {
     "output_type": "execute_result",
     "data": {
      "text/plain": [
       "0.4515898295233522"
      ]
     },
     "metadata": {},
     "execution_count": 37
    }
   ],
   "source": [
    "act = predictions\n",
    "exp = list(Y_test)\n",
    "matthews_corrcoef(act, exp)"
   ]
  },
  {
   "cell_type": "code",
   "execution_count": 38,
   "metadata": {},
   "outputs": [
    {
     "output_type": "execute_result",
     "data": {
      "text/plain": [
       "       0\n",
       "0  False\n",
       "1   True\n",
       "2  False\n",
       "3  False\n",
       "4   True"
      ],
      "text/html": "<div>\n<style scoped>\n    .dataframe tbody tr th:only-of-type {\n        vertical-align: middle;\n    }\n\n    .dataframe tbody tr th {\n        vertical-align: top;\n    }\n\n    .dataframe thead th {\n        text-align: right;\n    }\n</style>\n<table border=\"1\" class=\"dataframe\">\n  <thead>\n    <tr style=\"text-align: right;\">\n      <th></th>\n      <th>0</th>\n    </tr>\n  </thead>\n  <tbody>\n    <tr>\n      <th>0</th>\n      <td>False</td>\n    </tr>\n    <tr>\n      <th>1</th>\n      <td>True</td>\n    </tr>\n    <tr>\n      <th>2</th>\n      <td>False</td>\n    </tr>\n    <tr>\n      <th>3</th>\n      <td>False</td>\n    </tr>\n    <tr>\n      <th>4</th>\n      <td>True</td>\n    </tr>\n  </tbody>\n</table>\n</div>"
     },
     "metadata": {},
     "execution_count": 38
    }
   ],
   "source": [
    "tsdwd = format_df(tsd)\n",
    "predictions_finally = lr.predict(tsdwd)\n",
    "act = predictions_finally\n",
    "df = pd.DataFrame(act)\n",
    "df.head()"
   ]
  },
  {
   "cell_type": "code",
   "execution_count": 39,
   "metadata": {},
   "outputs": [],
   "source": [
    "df.to_csv('out.csv', index=True)"
   ]
  }
 ]
}